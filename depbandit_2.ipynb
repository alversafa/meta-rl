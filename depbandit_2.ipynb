{
 "cells": [
  {
   "cell_type": "markdown",
   "metadata": {},
   "source": [
    "# Dependent Bandit Experiment II\n",
    "\n",
    "Implementation of the 2nd dependent bandit experiment in the [Learning to Reinforcement Learn](https://arxiv.org/abs/1611.05763) paper. (See section 3.1.3)"
   ]
  },
  {
   "cell_type": "code",
   "execution_count": 1,
   "metadata": {},
   "outputs": [],
   "source": [
    "import numpy as np\n",
    "\n",
    "import torch\n",
    "import torch.nn as nn\n",
    "import torch.nn.functional as F\n",
    "from torch.distributions import Categorical"
   ]
  },
  {
   "cell_type": "code",
   "execution_count": 2,
   "metadata": {},
   "outputs": [],
   "source": [
    "from IPython.display import clear_output\n",
    "import matplotlib.pyplot as plt\n",
    "%matplotlib inline"
   ]
  },
  {
   "cell_type": "code",
   "execution_count": 3,
   "metadata": {},
   "outputs": [],
   "source": [
    "device = torch.device('cpu')\n",
    "\n",
    "seed = 123\n",
    "torch.manual_seed(seed);\n",
    "np.random.seed(seed);"
   ]
  },
  {
   "cell_type": "markdown",
   "metadata": {},
   "source": [
    "### 1 Helper Functions"
   ]
  },
  {
   "cell_type": "code",
   "execution_count": 4,
   "metadata": {},
   "outputs": [],
   "source": [
    "def test(agent):\n",
    "    env = DependentBandit()\n",
    "    state = env.reset()\n",
    "    \n",
    "    done = False\n",
    "    total_reward = 0\n",
    "    c = torch.zeros(1, 48).to(device)\n",
    "    h = torch.zeros(1, 48).to(device)\n",
    "    reward = 0\n",
    "    action = 0\n",
    "    \n",
    "    while not done:\n",
    "        state = torch.tensor(state).to(device)\n",
    "        pi, _, _, h, c = agent(state, reward, action, h, c)\n",
    "        action = pi.sample()\n",
    "        next_state, reward, done, _ = env.step(action.item())\n",
    "        state = next_state\n",
    "        total_reward += reward\n",
    "        \n",
    "    return total_reward"
   ]
  },
  {
   "cell_type": "code",
   "execution_count": 5,
   "metadata": {},
   "outputs": [],
   "source": [
    "def plot(episode, test_rewards):\n",
    "    clear_output(True)\n",
    "    plt.figure(figsize=(8,5))\n",
    "    plt.plot(test_rewards, color='red')\n",
    "    plt.title('episode: {}'.format(episode))\n",
    "    plt.xlabel('episode (*100)')\n",
    "    plt.ylabel('average reward')\n",
    "    plt.grid(True)\n",
    "    plt.show()"
   ]
  },
  {
   "cell_type": "code",
   "execution_count": 6,
   "metadata": {},
   "outputs": [],
   "source": [
    "def onehot_action(action, size=11):\n",
    "    oh = np.zeros(size)\n",
    "    oh[action] = 1.0\n",
    "    return oh"
   ]
  },
  {
   "cell_type": "code",
   "execution_count": 7,
   "metadata": {},
   "outputs": [],
   "source": [
    "def onehot_reward(reward, action, size=12):\n",
    "    oh = np.zeros(size)\n",
    "    if action == 10:\n",
    "        oh[int(reward*10 - 1)] = 1.0\n",
    "    else:\n",
    "        if reward == 1:\n",
    "            oh[10] = 1.0\n",
    "        else:\n",
    "            oh[11] = 1.0\n",
    "    return oh"
   ]
  },
  {
   "cell_type": "markdown",
   "metadata": {},
   "source": [
    "### 2 Environment\n",
    "\n",
    "The 2nd dependent bandit environment."
   ]
  },
  {
   "cell_type": "code",
   "execution_count": 8,
   "metadata": {},
   "outputs": [],
   "source": [
    "class DependentBandit():\n",
    "    \n",
    "    def __init__(self):\n",
    "        self.reset()\n",
    "        \n",
    "    def reset(self):\n",
    "        self.timestep = 0\n",
    "        self.target = np.random.randint(10)\n",
    "        return self.timestep\n",
    "    \n",
    "    def step(self, action):\n",
    "        self.timestep += 1\n",
    "        done = False\n",
    "        \n",
    "        if action == 10:\n",
    "            reward = (self.target+1)/10.0\n",
    "        elif action == self.target:\n",
    "            reward = 5.0\n",
    "        else:\n",
    "            reward = 1.0\n",
    "            \n",
    "        if self.timestep == 5: done = True\n",
    "        \n",
    "        return self.timestep, reward, done, _"
   ]
  },
  {
   "cell_type": "markdown",
   "metadata": {},
   "source": [
    "### 3 Meta RL Agent\n",
    "\n",
    "An RNN, a general purpose computer, that performs meta learning."
   ]
  },
  {
   "cell_type": "code",
   "execution_count": 9,
   "metadata": {},
   "outputs": [],
   "source": [
    "class MetaRLAgent(nn.Module):\n",
    "    \n",
    "    def __init__(self, num_inputs, num_outputs):\n",
    "        super(MetaRLAgent, self).__init__()\n",
    "        \n",
    "        self.lstm = nn.LSTMCell(num_inputs, 48)\n",
    "        self.fc_pol = nn.Linear(48, num_outputs)\n",
    "        self.fc_val = nn.Linear(48, 1)\n",
    "        \n",
    "        self.lstm.bias_ih.data.fill_(0)\n",
    "        self.lstm.bias_hh.data.fill_(0)\n",
    "        nn.init.xavier_uniform_(self.fc_pol.weight)\n",
    "        nn.init.zeros_(self.fc_pol.bias)\n",
    "        nn.init.xavier_uniform_(self.fc_val.weight)\n",
    "        nn.init.zeros_(self.fc_val.bias)\n",
    "        \n",
    "    def forward(self, s, r, a, h, c):\n",
    "        inp = np.array([onehot_action(a), onehot_reward(r, a), np.array([s])])\n",
    "        inp = np.concatenate(inp, axis=0)\n",
    "        inp = torch.tensor(inp, dtype=torch.float32)\n",
    "        inp = torch.unsqueeze(inp, dim=0).to(device)\n",
    "        \n",
    "        h, c = self.lstm(inp, (h, c))\n",
    "        \n",
    "        prob = F.softmax(self.fc_pol(h), dim=1)\n",
    "        pi = Categorical(prob)\n",
    "        \n",
    "        v = self.fc_val(h)\n",
    "        \n",
    "        return pi, prob, v, h, c"
   ]
  },
  {
   "cell_type": "markdown",
   "metadata": {},
   "source": [
    "### 4 Training\n",
    "\n",
    "Below is a **single** A3C worker whose input is augmented for meta reinforcement learning. The agent learns the optimal long-run strategy which is sampling the informative arm once and then exploiting the high-valued target arm. It gets a reward between 0 and 1 in the first sample and then gets 4 5s consecutively which makes a total reward of **20.X**."
   ]
  },
  {
   "cell_type": "code",
   "execution_count": 10,
   "metadata": {
    "scrolled": false
   },
   "outputs": [
    {
     "data": {
      "image/png": "[encoded data removed]",
      "text/plain": [
       "<Figure size 576x360 with 1 Axes>"
      ]
     },
     "metadata": {
      "needs_background": "light"
     },
     "output_type": "display_data"
    },
    {
     "name": "stdout",
     "output_type": "stream",
     "text": [
      "Rewards: [20.5, 20.2, 20.5, 20.8, 21.0, 17.0, 20.4, 20.6, 20.3, 20.3]\n",
      "Average: 20.160000000000004\n"
     ]
    }
   ],
   "source": [
    "env = DependentBandit()\n",
    "\n",
    "num_inputs = 24\n",
    "num_outputs = 11\n",
    "agent = MetaRLAgent(num_inputs, num_outputs).to(device)\n",
    "optimizer = torch.optim.Adam(agent.parameters(), lr=1e-3)\n",
    "\n",
    "episode = 0\n",
    "total_episodes = 50000\n",
    "discount = 0.8\n",
    "\n",
    "avg_test_rewards = []\n",
    "\n",
    "while episode < total_episodes:\n",
    "    \n",
    "    batch_log_pis = []\n",
    "    batch_rewards = []\n",
    "    batch_baselines = []\n",
    "    batch_entropies = []\n",
    "\n",
    "    c = torch.zeros(1, 48).to(device)\n",
    "    h = torch.zeros(1, 48).to(device)\n",
    "    done = False\n",
    "    state = env.reset()\n",
    "    reward = 0\n",
    "    action = 0\n",
    "        \n",
    "    while not done:\n",
    "        \n",
    "        state = torch.tensor(state).to(device)\n",
    "        \n",
    "        pi, prob, v, h, c = agent(state, reward, action, h, c)\n",
    "        action = pi.sample()\n",
    "        \n",
    "        next_state, reward, done, _ = env.step(action.item())\n",
    "        \n",
    "        reward = torch.tensor([[reward]])\n",
    "        log_pi = pi.log_prob(action)\n",
    "        \n",
    "        batch_log_pis.append(log_pi)\n",
    "        batch_rewards.append(reward.to(device))\n",
    "        batch_baselines.append(v)\n",
    "        batch_entropies.append(-(torch.log(prob) * prob).sum(dim=1))\n",
    "        \n",
    "        state = next_state\n",
    "\n",
    "    \n",
    "    target_value = torch.tensor([[0.0]]).to(device)\n",
    "    \n",
    "    batch_target_values = []\n",
    "    for reward in reversed(batch_rewards):\n",
    "        target_value = reward + discount * target_value\n",
    "        batch_target_values.append(target_value)\n",
    "        \n",
    "    batch_target_values.reverse()\n",
    "    \n",
    "    batch_log_pis = torch.cat(batch_log_pis)\n",
    "    batch_target_values = torch.cat(batch_target_values).detach()\n",
    "    batch_baselines = torch.cat(batch_baselines)\n",
    "    batch_entropies = torch.cat(batch_entropies)\n",
    "    \n",
    "    batch_advantages = batch_target_values - batch_baselines\n",
    "    \n",
    "    policy_loss = -(batch_log_pis * batch_advantages.detach()).mean()\n",
    "    value_loss = 0.05 * (batch_advantages.pow(2)).mean()\n",
    "    entropy_loss = -0.05 * batch_entropies.mean()\n",
    "    \n",
    "    loss = policy_loss + value_loss + entropy_loss\n",
    "    \n",
    "    optimizer.zero_grad()\n",
    "    loss.backward()\n",
    "    torch.nn.utils.clip_grad_norm_(agent.parameters(), 0.5)\n",
    "    optimizer.step()\n",
    "    \n",
    "    episode += 1\n",
    "    if episode % 100 == 0:\n",
    "        rewards = [test(agent) for _ in range(10)]\n",
    "        avg_test_rewards.append(np.mean(rewards))\n",
    "        plot(episode, avg_test_rewards)\n",
    "        print('Rewards: {}'.format(rewards))\n",
    "        print('Average: {}'.format(np.mean(rewards)))"
   ]
  },
  {
   "cell_type": "code",
   "execution_count": null,
   "metadata": {},
   "outputs": [],
   "source": []
  }
 ],
 "metadata": {
  "kernelspec": {
   "display_name": "Python 3",
   "language": "python",
   "name": "python3"
  },
  "language_info": {
   "codemirror_mode": {
    "name": "ipython",
    "version": 3
   },
   "file_extension": ".py",
   "mimetype": "text/x-python",
   "name": "python",
   "nbconvert_exporter": "python",
   "pygments_lexer": "ipython3",
   "version": "3.6.6"
  }
 },
 "nbformat": 4,
 "nbformat_minor": 2
}
